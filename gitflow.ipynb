{
 "cells": [
  {
   "cell_type": "code",
   "execution_count": 2,
   "metadata": {},
   "outputs": [],
   "source": [
    "# Import Data \n",
    "import pandas as pd\n",
    "from pandas.io.json import json_normalize\n",
    "import warnings\n",
    "import json\n",
    "import os\n",
    "warnings.filterwarnings(\"ignore\")\n"
   ]
  },
  {
   "cell_type": "markdown",
   "metadata": {},
   "source": [
    "## IMPORTANTE\n",
    "1. Código basado en el [link](https://www.kaggle.com/code/prathamsharma123/clean-raw-json-tweets-data) que dieron\n",
    "2. No lo pude probar porque me da error de que el output excede el tamaño máximo"
   ]
  },
  {
   "cell_type": "code",
   "execution_count": null,
   "metadata": {},
   "outputs": [],
   "source": [
    "# Read JSON file containing tweets data and removce tweets not in English\n",
    "\n",
    "raw_tweets = pd.read_json(r'../input/farmers-protest-tweets-dataset-raw-json/farmers-protest-tweets-2021-2-4.json', lines=True)\n",
    "raw_tweets = raw_tweets[raw_tweets['lang']=='en']\n",
    "\n",
    "users = json_normalize(raw_tweets['user'])\n",
    "users.drop(['description', 'linkTcourl'], axis=1, inplace=True)\n",
    "users.rename(columns={'id':'userId', 'url':'profileUrl'}, inplace=True)\n",
    "\n",
    "users = pd.DataFrame(users)\n",
    "users.drop_duplicates(subset=['userId'], inplace=True)\n",
    "\n",
    "# Transform 'raw_tweets' DataFrame\n",
    "\n",
    "# Add column for 'userId'\n",
    "user_id = []\n",
    "for user in raw_tweets['user']:\n",
    "    uid = user['id']\n",
    "    user_id.append(uid)\n",
    "raw_tweets['userId'] = user_id\n",
    "\n",
    "# Remove less important columns\n",
    "cols = ['url', 'date', 'renderedContent', 'id', 'userId', 'replyCount', 'retweetCount', 'likeCount', 'quoteCount', 'source', 'media', 'retweetedTweet', 'quotedTweet', 'mentionedUsers']\n",
    "tweets = raw_tweets[cols]\n",
    "tweets.rename(columns={'id':'tweetId', 'url':'tweetUrl'}, inplace=True)"
   ]
  },
  {
   "cell_type": "code",
   "execution_count": null,
   "metadata": {},
   "outputs": [],
   "source": [
    "def top_10_retweet(df):\n",
    "    top = df['retweetCount'].nlargest(n=10)\n",
    "    print(top[['tweetId', 'retweetCount']])\n",
    "\n",
    "def top_10_user_tweets(df):\n",
    "    tweets_per_user = df.groupby(['userId'])['userId'].count().reset_index(name=\"count\")\n",
    "    top = tweets_per_user['count'].nlargest(n=10)\n",
    "    print(top[['userId', 'count']])\n",
    "\n",
    "def top_10_days_tweets(df):\n",
    "    tweets_per_day = df.groupby(['date'])['date'].count().reset_index(name=\"count\")\n",
    "    top = tweets_per_day['count'].nlargest(n=10)\n",
    "    print(top[['date', 'count']])"
   ]
  },
  {
   "cell_type": "code",
   "execution_count": null,
   "metadata": {},
   "outputs": [],
   "source": [
    "if __name__ == \"__main__\":\n",
    "    print(\"Most Retweeted\")\n",
    "    top_10_retweet(tweets)\n",
    "\n",
    "    print(\"Users that tweet the most\")\n",
    "    top_10_user_tweets(tweets)\n",
    "\n",
    "    print(\"Days with most tweets\")\n",
    "    top_10_days_tweets(tweets)"
   ]
  }
 ],
 "metadata": {
  "kernelspec": {
   "display_name": "Python 3.10.5 64-bit",
   "language": "python",
   "name": "python3"
  },
  "language_info": {
   "codemirror_mode": {
    "name": "ipython",
    "version": 3
   },
   "file_extension": ".py",
   "mimetype": "text/x-python",
   "name": "python",
   "nbconvert_exporter": "python",
   "pygments_lexer": "ipython3",
   "version": "3.10.5"
  },
  "orig_nbformat": 4,
  "vscode": {
   "interpreter": {
    "hash": "e7370f93d1d0cde622a1f8e1c04877d8463912d04d973331ad4851f04de6915a"
   }
  }
 },
 "nbformat": 4,
 "nbformat_minor": 2
}
